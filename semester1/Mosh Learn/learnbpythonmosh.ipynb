{
 "cells": [
  {
   "cell_type": "code",
   "execution_count": null,
   "metadata": {},
   "outputs": [],
   "source": [
    "#ask a user their weight (in pounds), convert it to KG and print on the terminal\n",
    "berat_badan = input(\"berapa berat badan anda: \")\n",
    "perhitungan = int(berat_badan) * 0.45\n",
    "\n",
    "print(f\"berat badan anda adalah {perhitungan} KG\")"
   ]
  },
  {
   "cell_type": "code",
   "execution_count": null,
   "metadata": {},
   "outputs": [],
   "source": [
    "name = \"jennifer\"\n",
    "\n",
    "print(name [1:-1])"
   ]
  },
  {
   "cell_type": "code",
   "execution_count": null,
   "metadata": {},
   "outputs": [],
   "source": [
    "course = \"python for beginner\"\n",
    "another = course[:]\n",
    "print(course[-2])\n",
    "print(course[3])\n",
    "print(course[0:3])\n",
    "print(course[1:])\n",
    "print(another)"
   ]
  },
  {
   "cell_type": "code",
   "execution_count": null,
   "metadata": {},
   "outputs": [],
   "source": [
    "course = \"python for beginners\"\n",
    "print(len(course))\n",
    "print(course.upper())\n",
    "print(course.lower())\n",
    "print(course.title())\n",
    "print(course.find(\"thon\"))\n",
    "print(course.replace(\"p\",\"j\"))\n",
    "\"for\" in course "
   ]
  },
  {
   "cell_type": "code",
   "execution_count": null,
   "metadata": {},
   "outputs": [],
   "source": [
    "x = 10\n",
    "x = x + 3\n",
    "print(x)"
   ]
  },
  {
   "cell_type": "code",
   "execution_count": null,
   "metadata": {},
   "outputs": [],
   "source": [
    "10+3\n",
    "10-3\n",
    "10*3\n",
    "10/3\n",
    "10//3\n",
    "10%3\n",
    "10**3\n",
    "\n",
    "x = 10\n",
    "x += 3 #sama dengan yang atas\n",
    "x -= 3\n",
    "print(x)"
   ]
  },
  {
   "cell_type": "code",
   "execution_count": null,
   "metadata": {},
   "outputs": [],
   "source": [
    "x = (10 + 3) * 2 ** 2\n",
    "print(x) #hasilnya 52\n",
    "\n",
    "\"\"\"\n",
    "basic math:\n",
    "parenthesis\n",
    "exponentiation 2**3\n",
    "multiplication or division\n",
    "addition or substraction\n",
    "\"\"\""
   ]
  },
  {
   "cell_type": "code",
   "execution_count": null,
   "metadata": {},
   "outputs": [],
   "source": [
    "x = 2.9\n",
    "print(round(x))\n",
    "print(abs(-2.9))"
   ]
  },
  {
   "cell_type": "code",
   "execution_count": null,
   "metadata": {},
   "outputs": [],
   "source": [
    "import math\n",
    "print(math.ceil(2.9))\n",
    "print(math.floor(2.9))\n",
    "#cari math module buat kejelasan full"
   ]
  },
  {
   "cell_type": "code",
   "execution_count": null,
   "metadata": {},
   "outputs": [],
   "source": [
    "is_hot = False\n",
    "is_cold = False\n",
    "\n",
    "if is_hot:\n",
    "    print(\"its a hot day\")\n",
    "    print(\"drink a plenty of water\")\n",
    "elif is_cold:\n",
    "    print(\"its a cold day\")\n",
    "    print(\"wear a warm clothes\")\n",
    "else:\n",
    "    print(\"itss a lovely day\")\n",
    "\n",
    "print(\"enjoy your day\")"
   ]
  },
  {
   "cell_type": "code",
   "execution_count": null,
   "metadata": {},
   "outputs": [],
   "source": [
    "\"\"\"\n",
    "price of a houes is 1M dollar\n",
    "if buyer has good credit\n",
    "they need to put down 10%\n",
    "otherwise\n",
    "they need to put don 20%\n",
    "print the down payment\n",
    "\"\"\"\n",
    "house_price = 1000000 \n",
    "good_credit_buyer = False\n",
    "\n",
    "if good_credit_buyer:\n",
    "    down_payment = int(house_price * 0.1)\n",
    "    total = house_price - down_payment\n",
    "    print(f\"down payment = {down_payment} dollar\")\n",
    "    print(f\"total = {total} dollar \")\n",
    "else:\n",
    "    down_payment = int(house_price * 0.2)\n",
    "    total = house_price - down_payment\n",
    "    print(f\"down payment is {down_payment} dollar\")\n",
    "    print(f\"total = {total} dollar\")\n"
   ]
  },
  {
   "cell_type": "code",
   "execution_count": null,
   "metadata": {},
   "outputs": [],
   "source": [
    "has_high_income = False\n",
    "has_good_credit = True\n",
    "\n",
    "if has_high_income and has_good_credit:\n",
    "    print(\"eligible for loan\")\n",
    "else:\n",
    "    print(\"not eligible for loan\")\n",
    "    \n",
    "if has_high_income or has_good_credit:\n",
    "    print(\"eligible for loan\")"
   ]
  },
  {
   "cell_type": "code",
   "execution_count": null,
   "metadata": {},
   "outputs": [],
   "source": [
    "has_good_credit = True\n",
    "has_criminal_record = False\n",
    "\n",
    "if has_good_credit and not has_criminal_record:\n",
    "    print(\"eligible for loan\")"
   ]
  },
  {
   "cell_type": "code",
   "execution_count": null,
   "metadata": {},
   "outputs": [],
   "source": [
    "temperature = int(input(\" C\"))\n",
    "\n",
    "if temperature > 30:\n",
    "    print (\"its a hot day\")\n",
    "elif temperature < 10:\n",
    "    print (\"its a cold day\")\n",
    "else:\n",
    "    print(\"its neither hot or cold\")\n",
    " "
   ]
  },
  {
   "cell_type": "code",
   "execution_count": null,
   "metadata": {},
   "outputs": [],
   "source": [
    "name = input(\"whats ur name = \")\n",
    "\n",
    "if len(name) < 3:\n",
    "    print(\"name must be at least 3 character\")\n",
    "elif len(name) > 50:\n",
    "    print(\"name can be maximum of 50 character\")\n",
    "else:\n",
    "    print(\"name looks good\") "
   ]
  },
  {
   "cell_type": "code",
   "execution_count": null,
   "metadata": {},
   "outputs": [],
   "source": [
    "weight = int(input(\"weight: \"))\n",
    "unit = input(\"(L)bs or (K)g: \")\n",
    "\n",
    "if unit.upper() == \"K\":\n",
    "    converted = weight / 0.45\n",
    "    print(f\"You are {converted} pounds\")\n",
    "else:\n",
    "    converted = weight * 0.45\n",
    "    print(f\"You are {converted} Kg\")\n"
   ]
  },
  {
   "cell_type": "code",
   "execution_count": null,
   "metadata": {},
   "outputs": [],
   "source": [
    "i = 1\n",
    "while i <= 5:\n",
    "    print(i)\n",
    "    i = i + 1\n",
    "print(\"done\")"
   ]
  },
  {
   "cell_type": "code",
   "execution_count": null,
   "metadata": {},
   "outputs": [],
   "source": [
    "i = 1\n",
    "while i <= 5:\n",
    "    print(\"*\" * i)\n",
    "    i = i + 1\n",
    "print(\"done\")"
   ]
  },
  {
   "cell_type": "code",
   "execution_count": null,
   "metadata": {},
   "outputs": [],
   "source": [
    "print(\"\"\"welcome to very basic game\n",
    "      guess the number!\"\"\")\n",
    "\n",
    "guess = int(input(\"Guess: \"))\n",
    "tried = 3\n",
    "\n",
    "while guess != 9:\n",
    "    if tried <= 3:\n",
    "        print(\"wrong\")\n",
    "        guess = int(input(\"Guess: \"))\n",
    "    else:\n",
    "        print(\"you lose\")\n",
    "        break\n",
    "\n",
    "if guess == 9:\n",
    "    print(\"you win\")\n",
    "    \n",
    "#HAHAHAHAH SLAAAAH "
   ]
  },
  {
   "cell_type": "code",
   "execution_count": null,
   "metadata": {},
   "outputs": [],
   "source": [
    "print(\"welcome to very basic game, guess the number!\")\n",
    "\n",
    "answer = 9\n",
    "guesses_count = 0\n",
    "guess_limit = 3\n",
    "\n",
    "while guesses_count < guess_limit:\n",
    "    guess = int(input(\"guess: \"))\n",
    "    guesses_count += 1\n",
    "    if guess == answer:\n",
    "        print(\"you win!\")\n",
    "        break\n",
    "else:\n",
    "    print(\"u lost ur chance\")"
   ]
  },
  {
   "cell_type": "code",
   "execution_count": null,
   "metadata": {},
   "outputs": [],
   "source": [
    "print(\"Play Ur Car Now\")\n",
    "\n",
    "started = False\n",
    "\n",
    "while True:\n",
    "    command = input(\"> \").lower()\n",
    "    if command.lower() == \"help\":\n",
    "        print(\"\"\"\n",
    "start - to start the car\n",
    "stop - to stop the car\n",
    "quit - to exit\n",
    "              \"\"\")\n",
    "    elif command == \"start\":\n",
    "        if started:\n",
    "            print(\"Car already started\")\n",
    "        else:\n",
    "            started = True\n",
    "            print(\"Car started\")\n",
    "    elif command == \"stop\":\n",
    "        if not started:\n",
    "            print(\"Car already stopped\")\n",
    "        else:\n",
    "            started = False\n",
    "            print(\"Car stopped\")\n",
    "    elif command == \"quit\":\n",
    "        break\n",
    "    else:\n",
    "        print(\"I don't understand that...\")"
   ]
  },
  {
   "cell_type": "code",
   "execution_count": null,
   "metadata": {},
   "outputs": [],
   "source": [
    "print(\"Play Ur Car Now\")\n",
    "\n",
    "command_count_start = 0\n",
    "command_count_stop = 0\n",
    "command_first_stop = 0\n",
    "\n",
    "while True:\n",
    "    command = input(\"> \").lower()\n",
    "    if command.lower() == \"help\":\n",
    "        print(\"\"\"\n",
    "start - to start the car\n",
    "stop - to stop the car\n",
    "quit - to exit\n",
    "              \"\"\")\n",
    "    elif command == \"start\":\n",
    "        command_count_start += 1\n",
    "        command_first_stop += 1\n",
    "        if command_count_stop > 0:\n",
    "            command_count_stop -= 1\n",
    "        if command_count_start == 2:\n",
    "            command_count_start -= 1\n",
    "            print(\"WDYM? Ur car already started!\")\n",
    "        elif command_count_start < 2:\n",
    "            print(\"Car started... ready to go!\")\n",
    "    elif command == \"stop\":\n",
    "        command_count_stop += 1\n",
    "        if command_count_start > 0:\n",
    "            command_count_start -= 1\n",
    "        if command_count_stop == 2:\n",
    "            command_count_stop -= 1\n",
    "            print(\"Heyy ur car already stopped\")\n",
    "        elif command_count_start == 0 and command_first_stop == 0:\n",
    "            command_count_stop -= 1\n",
    "            print(\"Ur not even start ur car yet dumb dumb!\")\n",
    "        elif command_count_stop < 2:\n",
    "            print(\"Car stopped\")\n",
    "    elif command == \"quit\":\n",
    "        break\n",
    "    else:\n",
    "        print(\"I don't understand that...\")"
   ]
  },
  {
   "cell_type": "code",
   "execution_count": null,
   "metadata": {},
   "outputs": [],
   "source": [
    "for item in \"python\":\n",
    "    print(item)"
   ]
  },
  {
   "cell_type": "code",
   "execution_count": null,
   "metadata": {},
   "outputs": [],
   "source": [
    "for item in [\"rafi\", \"nazhmi\", \"nugraha\"]:\n",
    "    print(item)"
   ]
  },
  {
   "cell_type": "code",
   "execution_count": null,
   "metadata": {},
   "outputs": [],
   "source": [
    "for item in [1, 2, 3, 4, 5]:\n",
    "    print(item)"
   ]
  },
  {
   "cell_type": "code",
   "execution_count": null,
   "metadata": {},
   "outputs": [],
   "source": [
    "for item in range(10):\n",
    "    print(item)"
   ]
  },
  {
   "cell_type": "code",
   "execution_count": null,
   "metadata": {},
   "outputs": [],
   "source": [
    "for item in range(5, 10):\n",
    "    print(item)"
   ]
  },
  {
   "cell_type": "code",
   "execution_count": null,
   "metadata": {},
   "outputs": [],
   "source": [
    "for item in range(5, 20, 2):\n",
    "    print(item)"
   ]
  },
  {
   "cell_type": "code",
   "execution_count": null,
   "metadata": {},
   "outputs": [],
   "source": [
    "total = 0\n",
    "for price in range(10, 31, 10):\n",
    "    total += price\n",
    "print(f\"Total = {total}\")"
   ]
  },
  {
   "cell_type": "code",
   "execution_count": null,
   "metadata": {},
   "outputs": [],
   "source": [
    "prices = [10, 20, 30]\n",
    "total = 0\n",
    "for price in prices:\n",
    "    total += price\n",
    "print(f\"Total = {total}\")"
   ]
  },
  {
   "cell_type": "code",
   "execution_count": null,
   "metadata": {},
   "outputs": [],
   "source": [
    "for x in range(4):\n",
    "    for y in range(3):\n",
    "        print (f\"({x},{y})\")"
   ]
  },
  {
   "cell_type": "code",
   "execution_count": null,
   "metadata": {},
   "outputs": [],
   "source": [
    "numbers = [5, 2, 5, 2, 2]\n",
    "\n",
    "for x in numbers:\n",
    "    for y in range(1):\n",
    "        y = \"x\"\n",
    "        print(x * y)"
   ]
  },
  {
   "cell_type": "code",
   "execution_count": null,
   "metadata": {},
   "outputs": [],
   "source": [
    "numbers = [5, 2, 5, 2, 2]\n",
    "for x in numbers:\n",
    "    output = \"\"\n",
    "    for y in range(x):\n",
    "        output += \"x\"\n",
    "    print(output)"
   ]
  },
  {
   "cell_type": "code",
   "execution_count": null,
   "metadata": {},
   "outputs": [],
   "source": [
    "numbers = [1, 1, 1, 1, 7]\n",
    "for x in numbers:\n",
    "    output = \"\"\n",
    "    for y in range(x):\n",
    "        output += \"x\"\n",
    "    print(output)"
   ]
  },
  {
   "cell_type": "code",
   "execution_count": null,
   "metadata": {},
   "outputs": [],
   "source": [
    "names = [\"jhon\", \"bob\", \"mosh\", \"sarah\", \"mary\"]\n",
    "\n",
    "print(names[0])\n",
    "print(names[2])\n",
    "print(names[-1])\n",
    "print(names[:])\n",
    "print(names[2:])\n",
    "print(names[:4])\n",
    "print(names[2:4])\n",
    "print(names)\n"
   ]
  },
  {
   "cell_type": "code",
   "execution_count": null,
   "metadata": {},
   "outputs": [],
   "source": [
    "names = [\"jhon\", \"bob\", \"mosh\", \"sarah\", \"mary\"]\n",
    "names[0] = \"jon\"\n",
    "print(names)"
   ]
  },
  {
   "cell_type": "code",
   "execution_count": null,
   "metadata": {},
   "outputs": [],
   "source": [
    "numbers = [0,1,2,3,4,11,5,6,7,8,9,10]\n",
    "largest_numbers = max(numbers)\n",
    "\n",
    "print(largest_numbers)"
   ]
  },
  {
   "cell_type": "code",
   "execution_count": null,
   "metadata": {},
   "outputs": [],
   "source": [
    "numbers = [0,1,2,11,3,4,5,6,7,8,9,10]\n",
    "largest_numbers = numbers[0]\n",
    "\n",
    "for number in numbers:\n",
    "    if number > largest_numbers:\n",
    "        largest_numbers = number\n",
    "print(largest_numbers)"
   ]
  },
  {
   "cell_type": "code",
   "execution_count": null,
   "metadata": {},
   "outputs": [],
   "source": [
    "matrix = [\n",
    "    [1,2,3],\n",
    "    [4,5,6],\n",
    "    [7,8,9]\n",
    "]\n",
    "\n",
    "print(matrix[0][1])\n",
    "\n",
    "print(\"-----------------------\")\n",
    "\n",
    "for row in matrix:\n",
    "    for item in row:\n",
    "        print(item)\n",
    "        \n",
    "print(\"-----------------------\")\n",
    "\n",
    "matrix [0][1] = 20\n",
    "print(matrix[0][1])\n"
   ]
  },
  {
   "cell_type": "code",
   "execution_count": null,
   "metadata": {},
   "outputs": [],
   "source": [
    "numbers = [5, 2, 1, 5, 7, 4]\n",
    "numbers2 = numbers.copy()\n",
    "numbers.append(10)\n",
    "numbers.insert(3,0)\n",
    "numbers2.remove(1)\n",
    "numbers2.pop()\n",
    "print(numbers.index(5))\n",
    "print(50 in numbers)\n",
    "print(numbers.count(5))\n",
    "\n",
    "print(numbers2)\n",
    "\n",
    "numbers.sort()\n",
    "numbers.reverse()\n",
    "print(numbers)\n"
   ]
  },
  {
   "cell_type": "code",
   "execution_count": null,
   "metadata": {},
   "outputs": [],
   "source": [
    "numbers = [1,3,5,7,8,9,8,6,5,4,3,2,1,4,5,7,8,9,6,5,4,3,2,1]\n",
    "unique = []\n",
    "\n",
    "for number in numbers:\n",
    "    if number not in unique:\n",
    "        unique.append(number)\n",
    "\n",
    "unique.sort()\n",
    "print(unique)"
   ]
  },
  {
   "cell_type": "code",
   "execution_count": null,
   "metadata": {},
   "outputs": [],
   "source": [
    "numbers = (3,5,6,6,4,2,5,6)\n",
    "print(numbers.count(6))\n",
    "print(numbers.index(3))\n",
    "print(numbers)"
   ]
  },
  {
   "cell_type": "code",
   "execution_count": null,
   "metadata": {},
   "outputs": [],
   "source": [
    "coordinates = (1, 2, 3)\n",
    "\n",
    "x = coordinates[0]\n",
    "y = coordinates[1]\n",
    "z = coordinates[2]\n",
    "\n",
    "# similar to\n",
    "\n",
    "x, y, z = coordinates\n",
    "\n",
    "print(x)\n",
    "print(y)\n",
    "print(z)"
   ]
  },
  {
   "cell_type": "code",
   "execution_count": null,
   "metadata": {},
   "outputs": [],
   "source": [
    "costomer = {\n",
    "    \"name\": \"rafi nazhmi\",\n",
    "    \"age\": 30,\n",
    "    \"is_verified\": True\n",
    "}\n",
    "\n",
    "# print(costomer[\"name\"])\n",
    "# print(costomer.get(\"birth\"))\n",
    "# print(costomer.get(\"birth\", \"14 nov 2005\"))\n",
    "\n",
    "# costomer[\"name\"] = \"nugraha\"\n",
    "# print(costomer[\"name\"])\n",
    "\n",
    "# costomer[\"birth\"] =  \"14 nov 2005\"\n",
    "# print(costomer[\"birth\"])\n",
    "\n",
    "nama = costomer[\"name\"]\n",
    "print(nama)"
   ]
  },
  {
   "cell_type": "code",
   "execution_count": null,
   "metadata": {},
   "outputs": [],
   "source": [
    "text_to_emote = {\n",
    "    \":)\": \"😊\",\n",
    "    \":(\": \"😔\"    \n",
    "}\n",
    "text_massage = input(\"> \").split(\" \")\n",
    "output = \"\"\n",
    "\n",
    "for word in text_massage:\n",
    "    output += text_to_emote.get(word,word) + \" \"\n",
    "    \n",
    "print(output)"
   ]
  },
  {
   "cell_type": "code",
   "execution_count": null,
   "metadata": {},
   "outputs": [],
   "source": [
    "def greet_user():\n",
    "    print(\"Hi there\")\n",
    "    print(\"Welcome aboard\")\n",
    "    \n",
    "print(\"Start\")\n",
    "greet_user()\n",
    "print(\"Finish\")"
   ]
  },
  {
   "cell_type": "code",
   "execution_count": null,
   "metadata": {},
   "outputs": [],
   "source": [
    "def greet_user(first_name, last_name):\n",
    "    print(f\"Hi there {first_name} {last_name}\")\n",
    "    print(\"Welcome aboard\")\n",
    "\n",
    "def cal_cost(total, disc, shipping):\n",
    "    disc_price = (total + shipping) * disc \n",
    "    total_calculation = total + shipping - disc_price\n",
    "    print(f\"ur total is {total}, ur shipping {shipping}, ur disc {disc}\")\n",
    "    print(f\"ur final total is {total_calculation}\")\n",
    "    \n",
    "    \n",
    "print(\"Start\")\n",
    "greet_user(\"rafi\", last_name=\"nazhmi\")\n",
    "cal_cost(total=50, shipping=5, disc=0.1)\n",
    "print(\"Finish\")"
   ]
  },
  {
   "cell_type": "code",
   "execution_count": null,
   "metadata": {},
   "outputs": [],
   "source": [
    "def square(number):\n",
    "    return number * number\n",
    "\n",
    "result = square(2)\n",
    "print(result)"
   ]
  },
  {
   "cell_type": "code",
   "execution_count": null,
   "metadata": {},
   "outputs": [],
   "source": [
    "def square(number):\n",
    "    return number * number\n",
    "\n",
    "print(square(2))"
   ]
  },
  {
   "cell_type": "code",
   "execution_count": null,
   "metadata": {},
   "outputs": [],
   "source": [
    "def emoji_coverter(emoji):\n",
    "    text_to_emote = {\n",
    "    \":)\": \"😊\",\n",
    "    \":(\": \"😔\"    \n",
    "}\n",
    "    output = \"\"\n",
    "    \n",
    "    for converter in emoji:\n",
    "        output += text_to_emote.get(converter, converter) + \" \"\n",
    "    \n",
    "    return output\n",
    "\n",
    "massage = input(\"> \").split(\" \")\n",
    "print(emoji_coverter(massage))"
   ]
  },
  {
   "cell_type": "code",
   "execution_count": 14,
   "metadata": {},
   "outputs": [
    {
     "name": "stdout",
     "output_type": "stream",
     "text": [
      "age cannot be 0\n"
     ]
    }
   ],
   "source": [
    "try:\n",
    "    age = int(input(\"age: \"))\n",
    "    calc = 2000 / age\n",
    "    print(calc)\n",
    "except ZeroDivisionError:\n",
    "    print(\"age cannot be 0\")\n",
    "except ValueError:\n",
    "    print(\"invalid value\")"
   ]
  },
  {
   "cell_type": "code",
   "execution_count": 15,
   "metadata": {},
   "outputs": [
    {
     "name": "stdout",
     "output_type": "stream",
     "text": [
      "otong surotong\n",
      "nama\n"
     ]
    }
   ],
   "source": [
    "class mahasiswa():\n",
    "    nama = \"nama\"\n",
    "\n",
    "otong = mahasiswa()\n",
    "ucup = mahasiswa()\n",
    "\n",
    "otong.nama = \"otong surotong\"\n",
    "\n",
    "print(otong.nama)\n",
    "print(ucup.nama)"
   ]
  },
  {
   "cell_type": "code",
   "execution_count": null,
   "metadata": {},
   "outputs": [],
   "source": [
    "import array as ar\n",
    "\n",
    "numbers = ar.array(\"i\", [1,2,3])\n",
    "numbers.append(4)\n",
    "\n",
    "print(numbers)\n",
    "print(type(numbers))"
   ]
  }
 ],
 "metadata": {
  "kernelspec": {
   "display_name": "Python 3",
   "language": "python",
   "name": "python3"
  },
  "language_info": {
   "codemirror_mode": {
    "name": "ipython",
    "version": 3
   },
   "file_extension": ".py",
   "mimetype": "text/x-python",
   "name": "python",
   "nbconvert_exporter": "python",
   "pygments_lexer": "ipython3",
   "version": "3.11.5"
  }
 },
 "nbformat": 4,
 "nbformat_minor": 2
}
