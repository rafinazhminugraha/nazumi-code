{
 "cells": [
  {
   "cell_type": "code",
   "execution_count": 1,
   "metadata": {},
   "outputs": [
    {
     "data": {
      "text/plain": [
       "5"
      ]
     },
     "execution_count": 1,
     "metadata": {},
     "output_type": "execute_result"
    }
   ],
   "source": [
    "#contoh function\n",
    "def penjumlahan(a, b):\n",
    "    hasil = a + b\n",
    "    return hasil\n",
    "\n",
    "penjumlahan(2, 3)"
   ]
  },
  {
   "cell_type": "code",
   "execution_count": 2,
   "metadata": {},
   "outputs": [
    {
     "name": "stdout",
     "output_type": "stream",
     "text": [
      "halo, Sasa!\n"
     ]
    }
   ],
   "source": [
    "#contoh procedure\n",
    "def greeting(nama):\n",
    "    print(f\"halo, {nama}!\")\n",
    "\n",
    "greeting (\"Sasa\")"
   ]
  },
  {
   "cell_type": "code",
   "execution_count": 4,
   "metadata": {},
   "outputs": [
    {
     "name": "stdout",
     "output_type": "stream",
     "text": [
      "nilai dari global variabel adalah: 18\n",
      "18\n",
      "<function globalfunction at 0x00000224ECCBAB60>\n"
     ]
    }
   ],
   "source": [
    "#contoh global func\n",
    "\n",
    "globalVar = 18\n",
    "\n",
    "def globalfunction():\n",
    "    print(f\"nilai dari global variabel adalah: {globalVar}\")\n",
    "\n",
    "globalfunction()\n",
    "print(globalVar)\n",
    "print(globalfunction)"
   ]
  },
  {
   "cell_type": "code",
   "execution_count": 6,
   "metadata": {},
   "outputs": [
    {
     "name": "stdout",
     "output_type": "stream",
     "text": [
      "nilai dari local variabel adalah: 10\n"
     ]
    }
   ],
   "source": [
    "#contoh lokal variabe;\n",
    "\n",
    "def lokalfunction():\n",
    "    localVar = 10\n",
    "    print(f\"nilai dari local variabel adalah: {localVar}\")\n",
    "    \n",
    "lokalfunction()\n",
    "#print(lokalVar) akan menghasilkan error"
   ]
  },
  {
   "cell_type": "code",
   "execution_count": 5,
   "metadata": {},
   "outputs": [
    {
     "name": "stdout",
     "output_type": "stream",
     "text": [
      "halo, Sasa!\n",
      "halo, arul!\n"
     ]
    }
   ],
   "source": [
    "def greeting(nama):\n",
    "    print(f\"halo, {nama}!\")\n",
    "\n",
    "greeting (\"Sasa\")\n",
    "greeting (\"arul\")"
   ]
  },
  {
   "cell_type": "code",
   "execution_count": 7,
   "metadata": {},
   "outputs": [
    {
     "name": "stdout",
     "output_type": "stream",
     "text": [
      "nilai yang di input adalah = 3\n"
     ]
    }
   ],
   "source": [
    "def function(nilai):\n",
    "    print(f\"nilai yang di input adalah = {nilai}\")\n",
    "    \n",
    "nilai = input(\"masukkan nilai = \")\n",
    "function(nilai)"
   ]
  },
  {
   "cell_type": "code",
   "execution_count": 8,
   "metadata": {},
   "outputs": [
    {
     "name": "stdout",
     "output_type": "stream",
     "text": [
      "nilai yang di input adalah = 4\n"
     ]
    }
   ],
   "source": [
    "def function(nilai):\n",
    "    print(f\"nilai yang di input adalah = {nilai}\")\n",
    "    \n",
    "function(input(\"masukkan nilai = \"))"
   ]
  },
  {
   "cell_type": "code",
   "execution_count": 9,
   "metadata": {},
   "outputs": [
    {
     "name": "stdout",
     "output_type": "stream",
     "text": [
      "halo nazhmi\n",
      "halo sandist\n",
      "halo akmad\n"
     ]
    }
   ],
   "source": [
    "def greeting(nama = \"nazhmi\"):\n",
    "    print(f\"halo {nama}\")\n",
    "    \n",
    "greeting()\n",
    "greeting(\"sandist\")\n",
    "greeting(\"akmad\")"
   ]
  },
  {
   "cell_type": "code",
   "execution_count": 16,
   "metadata": {},
   "outputs": [
    {
     "name": "stdout",
     "output_type": "stream",
     "text": [
      "hasilnya adalah 1\n",
      "hasilnya adalah -1\n"
     ]
    }
   ],
   "source": [
    "def pengurangan(a, b):\n",
    "    print(f\"hasilnya adalah {a - b}\")\n",
    "\n",
    "pengurangan(b = 2, a = 3)\n",
    "pengurangan(2, 3)"
   ]
  },
  {
   "cell_type": "code",
   "execution_count": 11,
   "metadata": {},
   "outputs": [
    {
     "name": "stdout",
     "output_type": "stream",
     "text": [
      "angka terkahir yang dimasukkan 5\n"
     ]
    }
   ],
   "source": [
    "def funcArgs(*angka):\n",
    "    print(f\"angka terkahir yang dimasukkan {angka[-1]}\")\n",
    "    \n",
    "funcArgs(1, 2, 3, 4, 5)"
   ]
  },
  {
   "cell_type": "code",
   "execution_count": 12,
   "metadata": {},
   "outputs": [
    {
     "name": "stdout",
     "output_type": "stream",
     "text": [
      "angka terkahir yang dimasukkan (1, 2, 3, 4, 5)\n"
     ]
    }
   ],
   "source": [
    "def funcArgs(*angka):\n",
    "    print(f\"angka yang dimasukkan {angka[:]}\")\n",
    "    \n",
    "funcArgs(1, 2, 3, 4, 5)"
   ]
  }
 ],
 "metadata": {
  "kernelspec": {
   "display_name": "Python 3",
   "language": "python",
   "name": "python3"
  },
  "language_info": {
   "codemirror_mode": {
    "name": "ipython",
    "version": 3
   },
   "file_extension": ".py",
   "mimetype": "text/x-python",
   "name": "python",
   "nbconvert_exporter": "python",
   "pygments_lexer": "ipython3",
   "version": "3.11.5"
  }
 },
 "nbformat": 4,
 "nbformat_minor": 2
}
