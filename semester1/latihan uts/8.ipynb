{
 "cells": [
  {
   "cell_type": "code",
   "execution_count": 7,
   "metadata": {},
   "outputs": [
    {
     "name": "stdout",
     "output_type": "stream",
     "text": [
      "Kode akses Anda salah, silakan coba lagi!\n",
      "Masih ada 2 kali percobaan yang tersisa.\n",
      "Kode akses Anda salah, silakan coba lagi!\n",
      "Masih ada 1 kali percobaan yang tersisa.\n",
      "Kode akses Anda salah, silakan coba lagi!\n",
      "Anda telah melebihi batas percobaan, silakan coba lagi nanti.\n"
     ]
    }
   ],
   "source": [
    "kode_akses = \"admin123\"\n",
    "\n",
    "for i in range(3):\n",
    "    masukan_pengguna = input(\"Masukkan kode akses Anda: \")\n",
    "    \n",
    "    if masukan_pengguna == kode_akses:\n",
    "        print(\"Selamat datang, Anda berhasil masuk!\")\n",
    "        break\n",
    "    else:\n",
    "        print(\"Kode akses Anda salah, silakan coba lagi!\")\n",
    "        \n",
    "        if i < 2:\n",
    "            print(f\"Masih ada {3-i-1} kali percobaan yang tersisa.\")\n",
    "        else:\n",
    "            print(\"Anda telah melebihi batas percobaan, silakan coba lagi nanti.\")"
   ]
  },
  {
   "cell_type": "code",
   "execution_count": 8,
   "metadata": {},
   "outputs": [],
   "source": [
    "def jumlah_kelipatan(n, x):\n",
    "    jumlah = 0\n",
    "    for i in range(1, n+1):\n",
    "        if i % x == 0:\n",
    "            jumlah += 1\n",
    "    return jumlah\n",
    "\n",
    "while True:\n",
    "    n = int(input(\"Masukkan bilangan bulat positif: \"))\n",
    "    if n < 0:\n",
    "        break\n",
    "\n",
    "    kelipatan_4 = jumlah_kelipatan(n, 4)\n",
    "    kelipatan_5 = jumlah_kelipatan(n, 5)\n",
    "\n",
    "    print(\"Jumlah bilangan kelipatan 4 adalah:\", kelipatan_4)\n",
    "    print(\"Jumlah bilangan kelipatan 5 adalah:\", kelipatan_5)"
   ]
  },
  {
   "cell_type": "code",
   "execution_count": 11,
   "metadata": {},
   "outputs": [
    {
     "name": "stdout",
     "output_type": "stream",
     "text": [
      "Jumlah bilangan kelipatan 4: 4\n",
      "Jumlah bilangan kelipatan 5: 0\n"
     ]
    }
   ],
   "source": [
    "#Kelompok Risti dan Nashirul akan membuat program yang bisa membaca barisan bilangan bulat positif. Mereka ingin program tersebut berhenti membaca ketika pengguna memasukkan bilangan negatif dan mencetak masing-masing jumlah bilangan kelipatan 4 dan 5. Bantulah mereka dalam membuat program tersebut menggunakan Python! Kelompok Risti dan Nashirul akan membuat program yang bisa membaca barisan bilangan bulat positif. Mereka ingin program tersebut berhenti membaca ketika pengguna memasukkan bilangan negatif dan mencetak masing-masing jumlah bilangan kelipatan 4 dan 5. Bantulah mereka dalam membuat program tersebut menggunakan Python!\n",
    "\n",
    "jumlah_kelipatan_4 = 0\n",
    "jumlah_kelipatan_5 = 0\n",
    "\n",
    "while True:\n",
    "    bilangan = int(input(\"Masukkan bilangan bulat positif (negatif untuk berhenti): \"))\n",
    "    \n",
    "    if bilangan < 0:\n",
    "        break\n",
    "\n",
    "    if bilangan % 4 == 0:\n",
    "        jumlah_kelipatan_4 += bilangan\n",
    "\n",
    "    if bilangan % 5 == 0:\n",
    "        jumlah_kelipatan_5 += bilangan\n",
    "        \n",
    "print(\"Jumlah bilangan kelipatan 4:\", jumlah_kelipatan_4)\n",
    "print(\"Jumlah bilangan kelipatan 5:\", jumlah_kelipatan_5)"
   ]
  }
 ],
 "metadata": {
  "kernelspec": {
   "display_name": "Python 3",
   "language": "python",
   "name": "python3"
  },
  "language_info": {
   "codemirror_mode": {
    "name": "ipython",
    "version": 3
   },
   "file_extension": ".py",
   "mimetype": "text/x-python",
   "name": "python",
   "nbconvert_exporter": "python",
   "pygments_lexer": "ipython3",
   "version": "3.11.5"
  }
 },
 "nbformat": 4,
 "nbformat_minor": 2
}
