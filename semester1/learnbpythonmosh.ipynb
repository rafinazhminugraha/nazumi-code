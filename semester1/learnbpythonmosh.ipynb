{
 "cells": [
  {
   "cell_type": "code",
   "execution_count": null,
   "metadata": {},
   "outputs": [],
   "source": [
    "#ask a user their weight (in pounds), convert it to KG and print on the terminal\n",
    "berat_badan = input(\"berapa berat badan anda: \")\n",
    "perhitungan = int(berat_badan) * 0.45\n",
    "\n",
    "print(f\"berat badan anda adalah {perhitungan} KG\")"
   ]
  },
  {
   "cell_type": "code",
   "execution_count": null,
   "metadata": {},
   "outputs": [],
   "source": [
    "name = \"jennifer\"\n",
    "\n",
    "print(name [1:-1])"
   ]
  },
  {
   "cell_type": "code",
   "execution_count": null,
   "metadata": {},
   "outputs": [],
   "source": [
    "course = \"python for beginner\"\n",
    "another = course[:]\n",
    "print(course[-2])\n",
    "print(course[3])\n",
    "print(course[0:3])\n",
    "print(course[1:])\n",
    "print(another)"
   ]
  },
  {
   "cell_type": "code",
   "execution_count": null,
   "metadata": {},
   "outputs": [],
   "source": [
    "course = \"python for beginners\"\n",
    "print(len(course))\n",
    "print(course.upper())\n",
    "print(course.lower())\n",
    "print(course.title())\n",
    "print(course.find(\"thon\"))\n",
    "print(course.replace(\"p\",\"j\"))\n",
    "\"for\" in course "
   ]
  },
  {
   "cell_type": "code",
   "execution_count": null,
   "metadata": {},
   "outputs": [],
   "source": [
    "x = 10\n",
    "x = x + 3\n",
    "print(x)"
   ]
  },
  {
   "cell_type": "code",
   "execution_count": null,
   "metadata": {},
   "outputs": [],
   "source": [
    "10+3\n",
    "10-3\n",
    "10*3\n",
    "10/3\n",
    "10//3\n",
    "10%3\n",
    "10**3\n",
    "\n",
    "x = 10\n",
    "x += 3 #sama dengan yang atas\n",
    "x -= 3\n",
    "print(x)"
   ]
  },
  {
   "cell_type": "code",
   "execution_count": null,
   "metadata": {},
   "outputs": [],
   "source": [
    "x = (10 + 3) * 2 ** 2\n",
    "print(x) #hasilnya 52\n",
    "\n",
    "\"\"\"\n",
    "basic math:\n",
    "parenthesis\n",
    "exponentiation 2**3\n",
    "multiplication or division\n",
    "addition or substraction\n",
    "\"\"\""
   ]
  },
  {
   "cell_type": "code",
   "execution_count": null,
   "metadata": {},
   "outputs": [],
   "source": [
    "x = 2.9\n",
    "print(round(x))\n",
    "print(abs(-2.9))"
   ]
  },
  {
   "cell_type": "code",
   "execution_count": null,
   "metadata": {},
   "outputs": [],
   "source": [
    "import math\n",
    "print(math.ceil(2.9))\n",
    "print(math.floor(2.9))\n",
    "#cari math module buat kejelasan full"
   ]
  },
  {
   "cell_type": "code",
   "execution_count": null,
   "metadata": {},
   "outputs": [],
   "source": [
    "is_hot = False\n",
    "is_cold = False\n",
    "\n",
    "if is_hot:\n",
    "    print(\"its a hot day\")\n",
    "    print(\"drink a plenty of water\")\n",
    "elif is_cold:\n",
    "    print(\"its a cold day\")\n",
    "    print(\"wear a warm clothes\")\n",
    "else:\n",
    "    print(\"itss a lovely day\")\n",
    "\n",
    "print(\"enjoy your day\")"
   ]
  },
  {
   "cell_type": "code",
   "execution_count": null,
   "metadata": {},
   "outputs": [],
   "source": [
    "\"\"\"\n",
    "price of a houes is 1M dollar\n",
    "if buyer has good credit\n",
    "they need to put down 10%\n",
    "otherwise\n",
    "they need to put don 20%\n",
    "print the down payment\n",
    "\"\"\"\n",
    "house_price = 1000000 \n",
    "good_credit_buyer = False\n",
    "\n",
    "if good_credit_buyer:\n",
    "    down_payment = int(house_price * 0.1)\n",
    "    total = house_price - down_payment\n",
    "    print(f\"down payment = {down_payment} dollar\")\n",
    "    print(f\"total = {total} dollar \")\n",
    "else:\n",
    "    down_payment = int(house_price * 0.2)\n",
    "    total = house_price - down_payment\n",
    "    print(f\"down payment is {down_payment} dollar\")\n",
    "    print(f\"total = {total} dollar\")\n"
   ]
  },
  {
   "cell_type": "code",
   "execution_count": null,
   "metadata": {},
   "outputs": [],
   "source": [
    "has_high_income = False\n",
    "has_good_credit = True\n",
    "\n",
    "if has_high_income and has_good_credit:\n",
    "    print(\"eligible for loan\")\n",
    "else:\n",
    "    print(\"not eligible for loan\")\n",
    "    \n",
    "if has_high_income or has_good_credit:\n",
    "    print(\"eligible for loan\")"
   ]
  },
  {
   "cell_type": "code",
   "execution_count": null,
   "metadata": {},
   "outputs": [],
   "source": [
    "has_good_credit = True\n",
    "has_criminal_record = False\n",
    "\n",
    "if has_good_credit and not has_criminal_record:\n",
    "    print(\"eligible for loan\")"
   ]
  },
  {
   "cell_type": "code",
   "execution_count": null,
   "metadata": {},
   "outputs": [],
   "source": [
    "temperature = int(input(\" C\"))\n",
    "\n",
    "if temperature > 30:\n",
    "    print (\"its a hot day\")\n",
    "elif temperature < 10:\n",
    "    print (\"its a cold day\")\n",
    "else:\n",
    "    print(\"its neither hot or cold\")\n",
    " "
   ]
  },
  {
   "cell_type": "code",
   "execution_count": null,
   "metadata": {},
   "outputs": [],
   "source": [
    "name = input(\"whats ur name = \")\n",
    "\n",
    "if len(name) < 3:\n",
    "    print(\"name must be at least 3 character\")\n",
    "elif len(name) > 50:\n",
    "    print(\"name can be maximum of 50 character\")\n",
    "else:\n",
    "    print(\"name looks good\") "
   ]
  },
  {
   "cell_type": "code",
   "execution_count": null,
   "metadata": {},
   "outputs": [],
   "source": [
    "weight = int(input(\"weight: \"))\n",
    "unit = input(\"(L)bs or (K)g: \")\n",
    "\n",
    "if unit.upper() == \"K\":\n",
    "    converted = weight / 0.45\n",
    "    print(f\"You are {converted} pounds\")\n",
    "else:\n",
    "    converted = weight * 0.45\n",
    "    print(f\"You are {converted} Kg\")\n"
   ]
  },
  {
   "cell_type": "code",
   "execution_count": 88,
   "metadata": {},
   "outputs": [
    {
     "name": "stdout",
     "output_type": "stream",
     "text": [
      "1\n",
      "2\n",
      "3\n",
      "4\n",
      "5\n",
      "done\n"
     ]
    }
   ],
   "source": [
    "i = 1\n",
    "while i <= 5:\n",
    "    print(i)\n",
    "    i = i + 1\n",
    "print(\"done\")"
   ]
  },
  {
   "cell_type": "code",
   "execution_count": 89,
   "metadata": {},
   "outputs": [
    {
     "name": "stdout",
     "output_type": "stream",
     "text": [
      "*\n",
      "**\n",
      "***\n",
      "****\n",
      "*****\n",
      "done\n"
     ]
    }
   ],
   "source": [
    "i = 1\n",
    "while i <= 5:\n",
    "    print(\"*\" * i)\n",
    "    i = i + 1\n",
    "print(\"done\")"
   ]
  },
  {
   "cell_type": "code",
   "execution_count": 90,
   "metadata": {},
   "outputs": [
    {
     "name": "stdout",
     "output_type": "stream",
     "text": [
      "welcome to very basic game\n",
      "      guess the number!\n",
      "wrong\n",
      "wrong\n",
      "wrong\n",
      "wrong\n",
      "you win\n"
     ]
    }
   ],
   "source": [
    "print(\"\"\"welcome to very basic game\n",
    "      guess the number!\"\"\")\n",
    "\n",
    "guess = int(input(\"Guess: \"))\n",
    "tried = 3\n",
    "\n",
    "while guess != 9:\n",
    "    if tried <= 3:\n",
    "        print(\"wrong\")\n",
    "        guess = int(input(\"Guess: \"))\n",
    "    else:\n",
    "        print(\"you lose\")\n",
    "        break\n",
    "\n",
    "if guess == 9:\n",
    "    print(\"you win\")\n",
    "    \n",
    "#HAHAHAHAH SLAAAAH "
   ]
  },
  {
   "cell_type": "code",
   "execution_count": 92,
   "metadata": {},
   "outputs": [
    {
     "name": "stdout",
     "output_type": "stream",
     "text": [
      "welcome to very basic game, guess the number!\n",
      "you win!\n"
     ]
    }
   ],
   "source": [
    "print(\"\"\"welcome to very basic game, guess the number!\"\"\")\n",
    "\n",
    "answer = 9\n",
    "guesses = 0\n",
    "\n",
    "while guesses < 3:\n",
    "    guess = int(input(\"guess: \"))\n",
    "    guesses += 1\n",
    "    if guess == answer:\n",
    "        print(\"you win!\")\n",
    "        break\n",
    "else:\n",
    "    print(\"u lost ur chance\")"
   ]
  }
 ],
 "metadata": {
  "kernelspec": {
   "display_name": "Python 3",
   "language": "python",
   "name": "python3"
  },
  "language_info": {
   "codemirror_mode": {
    "name": "ipython",
    "version": 3
   },
   "file_extension": ".py",
   "mimetype": "text/x-python",
   "name": "python",
   "nbconvert_exporter": "python",
   "pygments_lexer": "ipython3",
   "version": "3.11.5"
  }
 },
 "nbformat": 4,
 "nbformat_minor": 2
}
