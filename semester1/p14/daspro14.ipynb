{
 "cells": [
  {
   "cell_type": "code",
   "execution_count": 4,
   "metadata": {},
   "outputs": [],
   "source": [
    "#write file\n",
    "file = open(\"folderEx/file.txt\", \"r\")\n"
   ]
  },
  {
   "cell_type": "code",
   "execution_count": 5,
   "metadata": {},
   "outputs": [
    {
     "name": "stdout",
     "output_type": "stream",
     "text": [
      "selamat siang kelas 1a\n",
      "\n",
      "selamat siang kelas 1b\n",
      "selamat siang kelas 1c\n"
     ]
    }
   ],
   "source": [
    "#contoh tanpa metode with():\n",
    "file = open(\"folderEx/file.txt\", \"r\")\n",
    "konten = file.read()\n",
    "print(konten)"
   ]
  },
  {
   "cell_type": "code",
   "execution_count": 6,
   "metadata": {},
   "outputs": [
    {
     "name": "stdout",
     "output_type": "stream",
     "text": [
      "selamat siang kelas 1a\n",
      "\n",
      "selamat siang kelas 1b\n",
      "selamat siang kelas 1c\n"
     ]
    }
   ],
   "source": [
    "#contoh dengan metode with():\n",
    "with open(\"folderEx/file.txt\", \"r\") as file:\n",
    "    konten =file.read()\n",
    "print(konten)"
   ]
  },
  {
   "cell_type": "code",
   "execution_count": 7,
   "metadata": {},
   "outputs": [
    {
     "name": "stdout",
     "output_type": "stream",
     "text": [
      "selam\n"
     ]
    }
   ],
   "source": [
    "#contoh dengan metode with():\n",
    "with open(\"folderEx/file.txt\", \"r\") as file:\n",
    "    konten =file.read(5)\n",
    "print(konten)"
   ]
  },
  {
   "cell_type": "code",
   "execution_count": 8,
   "metadata": {},
   "outputs": [
    {
     "name": "stdout",
     "output_type": "stream",
     "text": [
      "selamat siang kelas 1a\n",
      "\n",
      "\n",
      "\n",
      "selamat siang kelas 1b\n",
      "\n",
      "selamat siang kelas 1c\n"
     ]
    }
   ],
   "source": [
    "with open(\"folderEx/file.txt\", \"r\") as file:\n",
    "    line = file.readline()\n",
    "    while line:\n",
    "        print(line)\n",
    "        line = file.readline()"
   ]
  },
  {
   "cell_type": "code",
   "execution_count": 9,
   "metadata": {},
   "outputs": [
    {
     "name": "stdout",
     "output_type": "stream",
     "text": [
      "selamat siang kelas 1a\n",
      "\n",
      "\n",
      "\n",
      "selamat siang kelas 1b\n",
      "\n",
      "selamat siang kelas 1c\n"
     ]
    }
   ],
   "source": [
    "with open(\"folderEx/file.txt\", \"r\") as file:\n",
    "    for line in file:\n",
    "        print(line)"
   ]
  },
  {
   "cell_type": "code",
   "execution_count": 11,
   "metadata": {},
   "outputs": [],
   "source": [
    "with open(\"folderEx/dataPengguna.txt\", \"w\") as file:\n",
    "    file.write(\"nyoba perpindahaan file\")"
   ]
  },
  {
   "cell_type": "code",
   "execution_count": 12,
   "metadata": {},
   "outputs": [
    {
     "name": "stdout",
     "output_type": "stream",
     "text": [
      "nyoba perpindahaan file dan skarang diubah lgi\n"
     ]
    }
   ],
   "source": [
    "#menuliskan tulisan kedalam file yang sudah ada\n",
    "with open(\"folderEx/dataPengguna.txt\", \"w\") as file:\n",
    "    file.write(\"nyoba perpindahaan file dan skarang diubah lgi\")\n",
    "#membaca isi dari file\n",
    "with open(\"folderEx/dataPengguna.txt\", \"r\") as file:\n",
    "    konten = file.read()\n",
    "\n",
    "print(konten)"
   ]
  },
  {
   "cell_type": "code",
   "execution_count": 13,
   "metadata": {},
   "outputs": [
    {
     "name": "stdout",
     "output_type": "stream",
     "text": [
      "Tulisan ini yang akan ditulis ke dalam berkas yang sdah ada\n",
      "\n",
      "=====================****=====================\n",
      "Tulisan ini yang akan ditulis ke dalam berkas yang sdah adatulisan ini baru ditambahkan pada file yang sudah ada\n"
     ]
    }
   ],
   "source": [
    "with open(\"folderEx/oldFile.txt\", \"r\") as file:\n",
    "    konten = file.read()\n",
    "print(konten)\n",
    "\n",
    "with open(\"folderEx/oldFile.txt\", \"a\") as file:\n",
    "    file.write(\"tulisan ini baru ditambahkan pada file yang sudah ada\")\n",
    "\n",
    "print(\"\\n=====================****=====================\")\n",
    "\n",
    "with open(\"folderEx/oldFile.txt\", \"r\") as file:\n",
    "    konten = file.read()\n",
    "print(konten)"
   ]
  },
  {
   "cell_type": "code",
   "execution_count": 15,
   "metadata": {},
   "outputs": [
    {
     "name": "stdout",
     "output_type": "stream",
     "text": [
      "Tulisan ini baru ditambahkan dengan metode append pada file yang belum ada\n"
     ]
    }
   ],
   "source": [
    "with open(\"folderEx/newFileAppend.txt\", \"a\") as file:\n",
    "    file.write(\"Tulisan ini baru ditambahkan dengan metode append pada file yang belum ada\")\n",
    "\n",
    "with open(\"folderEx/newFileAppend.txt\", \"r\") as file:\n",
    "    konten = file.read()\n",
    "\n",
    "print(konten)"
   ]
  },
  {
   "cell_type": "code",
   "execution_count": 16,
   "metadata": {},
   "outputs": [
    {
     "name": "stdout",
     "output_type": "stream",
     "text": [
      "selamat siang kelas 1a\n",
      "\n",
      "selamat siang kelas 1b\n",
      "selamat siang kelas 1c\n",
      "\n",
      "=====================****=====================\n",
      "\n",
      "halo\n",
      "Selamat\n",
      "siang\n"
     ]
    }
   ],
   "source": [
    "with open(\"folderEx/file.txt\", \"r\") as file:\n",
    "    konten = file.read()\n",
    "print(konten)\n",
    "\n",
    "with open(\"folderEx/file.txt\", \"w\") as file:\n",
    "    list =  [\"\\nhalo\", \"\\nSelamat\", \"\\nsiang\"]\n",
    "    file.writelines(list)\n",
    "\n",
    "print(\"\\n=====================****=====================\")\n",
    "\n",
    "with open(\"folderEx/file.txt\", \"r\") as file:\n",
    "    konten = file.read()\n",
    "print(konten)"
   ]
  },
  {
   "cell_type": "code",
   "execution_count": 17,
   "metadata": {},
   "outputs": [
    {
     "name": "stdout",
     "output_type": "stream",
     "text": [
      "file ada\n"
     ]
    }
   ],
   "source": [
    "import os\n",
    "\n",
    "file = os.path.exists(\"folderEx/file.txt\")\n",
    "\n",
    "if file:\n",
    "    print(\"file ada\")\n",
    "else:\n",
    "    print(\"file tidak ada\")"
   ]
  },
  {
   "cell_type": "code",
   "execution_count": 18,
   "metadata": {},
   "outputs": [
    {
     "name": "stdout",
     "output_type": "stream",
     "text": [
      "file tidak ada\n"
     ]
    }
   ],
   "source": [
    "import os\n",
    "\n",
    "file = os.path.exists(\"folderEx/filetidakada.txt\")\n",
    "\n",
    "if file:\n",
    "    print(\"file ada\")\n",
    "else:\n",
    "    print(\"file tidak ada\")"
   ]
  },
  {
   "cell_type": "code",
   "execution_count": 19,
   "metadata": {},
   "outputs": [
    {
     "name": "stdout",
     "output_type": "stream",
     "text": [
      "ini dalah file\n"
     ]
    }
   ],
   "source": [
    "import os\n",
    "\n",
    "berkas_ada = os.path.isfile(\"folderEx/file.txt\")\n",
    "\n",
    "if berkas_ada:\n",
    "    print(\"ini dalah file\")\n",
    "else:\n",
    "    print(\"ini buka file atau file tidak ada\")"
   ]
  },
  {
   "cell_type": "code",
   "execution_count": 20,
   "metadata": {},
   "outputs": [
    {
     "name": "stdout",
     "output_type": "stream",
     "text": [
      "ini buka file atau file tidak ada\n"
     ]
    }
   ],
   "source": [
    "import os\n",
    "\n",
    "berkas_ada = os.path.isfile(\"folderEx/fileNull.txt\")\n",
    "\n",
    "if berkas_ada:\n",
    "    print(\"ini dalah file\")\n",
    "else:\n",
    "    print(\"ini buka file atau file tidak ada\")"
   ]
  },
  {
   "cell_type": "code",
   "execution_count": null,
   "metadata": {},
   "outputs": [],
   "source": [
    "file_path = \"folderEx/file_list.txt\"\n",
    "\n",
    "with open(file_path, \"r\") as file:\n",
    "\n",
    "lines file.readlines()\n",
    "\n",
    "dari setiap baris dan kemudian membagi setiap baris berdasarkan\n",
    "\n",
    "listData = [1\n",
    "\n",
    "#membuat list baru untuk menyimpan isi dari file\n",
    "\n",
    "for line in lines:\n",
    "\n",
    "#looping setiap item dalam object lines\n",
    "\n",
    "newline line.strip().split()\n",
    "\n",
    "# menghapus whitespace dan membagi string ke dalam sebuah list\n",
    "\n",
    "listData.append(newLine)\n",
    "\n",
    "#tambahkan elemen yang bernama newline ke dalam listData\n",
    "\n",
    "#menampilkan isi file yang telah dibaca\n",
    "\n",
    "for item in listData:\n",
    "\n",
    "print(item)\n",
    "\n",
    "print(f\"Maaf file untuk {file_path) tidak ditemukan\")\n",
    "\n",
    "20 else:"
   ]
  }
 ],
 "metadata": {
  "kernelspec": {
   "display_name": "Python 3",
   "language": "python",
   "name": "python3"
  },
  "language_info": {
   "codemirror_mode": {
    "name": "ipython",
    "version": 3
   },
   "file_extension": ".py",
   "mimetype": "text/x-python",
   "name": "python",
   "nbconvert_exporter": "python",
   "pygments_lexer": "ipython3",
   "version": "3.11.5"
  }
 },
 "nbformat": 4,
 "nbformat_minor": 2
}
