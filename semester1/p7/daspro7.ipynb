{
 "cells": [
  {
   "cell_type": "code",
   "execution_count": 8,
   "metadata": {},
   "outputs": [
    {
     "name": "stdout",
     "output_type": "stream",
     "text": [
      "buah: apel\n",
      "buah: belimbing\n",
      "buah: cari\n",
      "buah: durian\n"
     ]
    }
   ],
   "source": [
    "buah = [\"apel\", \"belimbing\", \"cari\", \"durian\"]\n",
    "\n",
    "for i in buah:\n",
    "    print(f\"buah: {i}\")"
   ]
  },
  {
   "cell_type": "code",
   "execution_count": 9,
   "metadata": {},
   "outputs": [
    {
     "name": "stdout",
     "output_type": "stream",
     "text": [
      "buah: apel\n",
      "buah: belimbing\n",
      "buah: cari\n",
      "buah: durian\n"
     ]
    }
   ],
   "source": [
    "buah = [\"apel\", \"belimbing\", \"cari\", \"durian\"]\n",
    "\n",
    "for i in range(len(buah)):\n",
    "    print(f\"buah: {buah[i]}\")"
   ]
  },
  {
   "cell_type": "code",
   "execution_count": 10,
   "metadata": {},
   "outputs": [
    {
     "name": "stdout",
     "output_type": "stream",
     "text": [
      "huruf: p\n",
      "huruf: y\n",
      "huruf: t\n",
      "huruf: h\n",
      "huruf: o\n",
      "huruf: n\n"
     ]
    }
   ],
   "source": [
    "for i in \"python\":\n",
    "    print(f\"huruf: {i}\")\n",
    "    "
   ]
  },
  {
   "cell_type": "code",
   "execution_count": 11,
   "metadata": {},
   "outputs": [
    {
     "name": "stdout",
     "output_type": "stream",
     "text": [
      "angka skarang 0\n",
      "angka skarang 1\n",
      "angka skarang 2\n",
      "angka skarang 3\n",
      "angka skarang 4\n",
      "angka skarang 5\n",
      "angka skarang 6\n",
      "angka skarang 7\n"
     ]
    }
   ],
   "source": [
    "angka = 0\n",
    "while(angka < 8):\n",
    "    print(f\"angka skarang {angka}\")\n",
    "    angka += 1"
   ]
  },
  {
   "cell_type": "code",
   "execution_count": 3,
   "metadata": {},
   "outputs": [
    {
     "name": "stdout",
     "output_type": "stream",
     "text": [
      "1\n",
      "2\n",
      "3\n",
      "4\n",
      "5\n"
     ]
    }
   ],
   "source": [
    "angka = [1, 2, 3, 4, 5]\n",
    "\n",
    "for i in angka:\n",
    "    print(i) "
   ]
  },
  {
   "cell_type": "code",
   "execution_count": null,
   "metadata": {},
   "outputs": [],
   "source": [
    "angka = [1, 2, 3, 4, 5]\n",
    "\n",
    "for i in angka:\n",
    "    if i == 3:\n",
    "        continue\n",
    "    print(i)"
   ]
  },
  {
   "cell_type": "code",
   "execution_count": null,
   "metadata": {},
   "outputs": [],
   "source": [
    "for i in range(2, 6):\n",
    "    print(i)"
   ]
  },
  {
   "cell_type": "code",
   "execution_count": 3,
   "metadata": {},
   "outputs": [
    {
     "name": "stdout",
     "output_type": "stream",
     "text": [
      "0\n",
      "2\n",
      "4\n",
      "6\n",
      "8\n"
     ]
    }
   ],
   "source": [
    "for i in range(0, 10, 2):\n",
    "    print(i)"
   ]
  },
  {
   "cell_type": "code",
   "execution_count": 1,
   "metadata": {},
   "outputs": [
    {
     "name": "stdout",
     "output_type": "stream",
     "text": [
      "10\n",
      "9\n",
      "8\n",
      "7\n",
      "6\n",
      "5\n",
      "4\n",
      "3\n",
      "2\n",
      "1\n"
     ]
    }
   ],
   "source": [
    "for i in range(10, 0, -1):\n",
    "    print(i)"
   ]
  },
  {
   "cell_type": "code",
   "execution_count": 2,
   "metadata": {},
   "outputs": [
    {
     "name": "stdout",
     "output_type": "stream",
     "text": [
      "0\n",
      "5\n",
      "10\n",
      "15\n",
      "20\n",
      "25\n",
      "30\n",
      "35\n",
      "40\n",
      "45\n",
      "50\n",
      "55\n",
      "60\n",
      "65\n",
      "70\n",
      "75\n",
      "80\n",
      "85\n",
      "90\n",
      "95\n",
      "100\n"
     ]
    }
   ],
   "source": [
    "for i in range(0, 101, 5):\n",
    "    print(i)"
   ]
  },
  {
   "cell_type": "code",
   "execution_count": null,
   "metadata": {},
   "outputs": [],
   "source": [
    "#Nested Loops = looping bersarang\n",
    "buah = [\"apel\", \"belimbing\", \"ceri\"]\n",
    "angka = [1, 2]\n",
    "\n",
    "for i in buah:\n",
    "    for j in angka:\n",
    "        print(i)\n",
    "        print(j)"
   ]
  },
  {
   "cell_type": "code",
   "execution_count": 2,
   "metadata": {},
   "outputs": [
    {
     "name": "stdout",
     "output_type": "stream",
     "text": [
      "p\n",
      "y\n",
      "h\n",
      "o\n",
      "n\n"
     ]
    }
   ],
   "source": [
    "#looping conditional\n",
    "#if else di loop\n",
    "\n",
    "string = \"python\"\n",
    "\n",
    "for karakter in string:\n",
    "    if karakter == \"t\":\n",
    "        continue\n",
    "    print(karakter)"
   ]
  },
  {
   "cell_type": "code",
   "execution_count": null,
   "metadata": {},
   "outputs": [
    {
     "name": "stdout",
     "output_type": "stream",
     "text": [
      "angka yang anda masukkan salah\n",
      "benar\n"
     ]
    }
   ],
   "source": [
    "#latihan\n",
    "bilangan = int(input(\"masukkan angka ganjil dan lebih dari 50 = \"))\n",
    "\n",
    "while True:\n",
    "    if bilangan % 2 == 0 or bilangan <= 50:\n",
    "        print(\"angka yang anda masukkan salah\")\n",
    "        bilangan = int(input(\"inputkan lagi = \"))\n",
    "    else:\n",
    "        print(\"benar\")\n",
    "        break"
   ]
  },
  {
   "cell_type": "code",
   "execution_count": 1,
   "metadata": {},
   "outputs": [],
   "source": [
    "#loop di list\n",
    "list = [\"apel\", \"anggur\", \"mangga\", \"jeruk\", \"melon\"]\n",
    "listbaru = []\n",
    "\n",
    "for i in list:\n",
    "    if i == \"mangga\":\n",
    "        continue\n",
    "    listbaru.append(i)"
   ]
  }
 ],
 "metadata": {
  "kernelspec": {
   "display_name": "Python 3",
   "language": "python",
   "name": "python3"
  },
  "language_info": {
   "codemirror_mode": {
    "name": "ipython",
    "version": 3
   },
   "file_extension": ".py",
   "mimetype": "text/x-python",
   "name": "python",
   "nbconvert_exporter": "python",
   "pygments_lexer": "ipython3",
   "version": "3.11.5"
  }
 },
 "nbformat": 4,
 "nbformat_minor": 2
}
